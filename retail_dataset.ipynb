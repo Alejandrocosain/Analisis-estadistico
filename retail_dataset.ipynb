{
 "cells": [
  {
   "cell_type": "code",
   "execution_count": null,
   "metadata": {},
   "outputs": [],
   "source": [
    "import pandas as pd\n",
    "import matplotlib.pyplot as plt\n",
    "import numpy as np\n",
    "import math\n",
    "import scipy.stats as vale\n",
    "import seaborn as sns\n",
    "from sklearn import linear_model"
   ]
  },
  {
   "cell_type": "markdown",
   "metadata": {},
   "source": [
    "\n",
    "Considera la información anexa en este correo. Revisa los tres conjuntos de datos y determina si es necesario realizar una limpieza determinando los siguientes puntos:\n",
    "¿Cuáles columnas tienen valores nulos? ¿Por qué tienen valores nulos? ¿Hay alguna manera de eliminarlos?\n",
    "¿La información de los departamentos es válida? ¿Existen departamentos cuyas ventas son irregulares? ¿Sería válido eliminar estos departamentos del estudio cuando no se estudian estos de manera específica?\n",
    "¿Cómo es el comportamiento de venta de las tiendas? ¿Existe alguna tienda atípica o con información pobre que se deba eliminar?"
   ]
  },
  {
   "cell_type": "code",
   "execution_count": null,
   "metadata": {},
   "outputs": [],
   "source": [
    "features_data= pd.read_csv(\"Features data set.csv\",parse_dates=[\"Date\"])\n",
    "sales_data= pd.read_csv(\"sales data-set.csv\",parse_dates=[\"Date\"])\n",
    "stores_data=pd.read_csv(\"stores data-set.csv\")\n",
    "print(sales_data)\n",
    "print(features_data)\n",
    "print(stores_data)"
   ]
  },
  {
   "cell_type": "code",
   "execution_count": null,
   "metadata": {},
   "outputs": [],
   "source": [
    "stores_data.isna().sum()\n"
   ]
  },
  {
   "cell_type": "code",
   "execution_count": null,
   "metadata": {},
   "outputs": [],
   "source": [
    "revision_nulos= features_data.iloc[:,[1,0,10]].drop_duplicates()\n",
    "#print(revision_nulos)\n",
    "\n",
    "#for i in range(revision_nulos.shape[0]):\n",
    "    #print(revision_nulos.iloc[[i]])\n",
    "    \n",
    "revision_nulos.pivot(index=\"Store\", columns=\"Date\", values= \"Unemployment\").isna().sum()\n"
   ]
  },
  {
   "cell_type": "code",
   "execution_count": null,
   "metadata": {},
   "outputs": [],
   "source": [
    "grafica= sales_data.groupby([\"Dept\",\"Date\"]).sum().reset_index()\n",
    "depto_nulos=grafica.pivot(index=\"Date\",columns=\"Dept\",values=\"Weekly_Sales\").isna().sum()\n",
    "depto_nulos[depto_nulos>0]\n",
    "sns.lineplot(x=\"Date\",y=\"Weekly_Sales\", data= grafica[grafica[\"Dept\"]==1])\n"
   ]
  },
  {
   "cell_type": "code",
   "execution_count": null,
   "metadata": {},
   "outputs": [],
   "source": [
    "valor_tiendas= sales_data.iloc[:,[0,2,3]]\n",
    "valor_tiendas= valor_tiendas.groupby([\"Store\",\"Date\"]).sum().reset_index()\n",
    "#print(valor_tiendas)\n",
    "sns.lineplot(x=\"Date\",y=\"Weekly_Sales\", data= valor_tiendas,hue=\"Store\")\n",
    "valor_tiendas.pivot(index=\"Date\", columns=\"Store\", values= \"Weekly_Sales\").max().sort_values()\n"
   ]
  },
  {
   "cell_type": "markdown",
   "metadata": {},
   "source": [
    "## Fase 1: Entendimiento de los datos"
   ]
  },
  {
   "cell_type": "markdown",
   "metadata": {},
   "source": [
    "Distribución de Pareto por Tipo de Tienda"
   ]
  },
  {
   "cell_type": "code",
   "execution_count": null,
   "metadata": {},
   "outputs": [],
   "source": [
    "\n",
    "ventas_tienda1= sales_data.merge(stores_data,on=\"Store\")\n",
    "print(ventas_tienda1)\n",
    "#print(sales_data)\n",
    "#print(stores_data)"
   ]
  },
  {
   "cell_type": "code",
   "execution_count": null,
   "metadata": {},
   "outputs": [],
   "source": [
    "ventas_tienda=ventas_tienda1.iloc[:,[3,5]]\n",
    "ventas_tienda=ventas_tienda.groupby([\"Type\"]).sum().reset_index()\n",
    "total_ventas=ventas_tienda[\"Weekly_Sales\"].sum()\n",
    "ventas_tienda[\"%\"]=ventas_tienda[\"Weekly_Sales\"]/total_ventas\n",
    "#print(ventas_tienda)\n",
    "\n",
    "ventas_tiendastipo= ventas_tienda1.iloc[:,[0,3,5]]\n",
    "ventas_tiendastipo=ventas_tiendastipo.groupby([\"Store\",\"Type\"]).sum()\n",
    "ventas_tipo=ventas_tiendastipo.groupby([\"Type\"]).mean()\n",
    "print(ventas_tipo)\n",
    "ventas_tipo.plot.bar()\n"
   ]
  },
  {
   "cell_type": "markdown",
   "metadata": {},
   "source": [
    "Distribución de Pareto por Tienda"
   ]
  },
  {
   "cell_type": "code",
   "execution_count": null,
   "metadata": {},
   "outputs": [],
   "source": [
    "pareto_tienda=sales_data.iloc[:,[0,3]]\n",
    "pareto_tienda=pareto_tienda.groupby([\"Store\"]).sum().sort_values(by=\"Weekly_Sales\", ascending=False)\n",
    "pareto_tienda[\"%\"]= pareto_tienda[\"Weekly_Sales\"]/total_ventas    \n",
    "pareto_tienda[\"acumulado\"]= pareto_tienda[\"%\"].cumsum()\n",
    "total= pareto_tienda[\"%\"].sum()                             \n",
    "print(pareto_tienda)\n",
    "pareto_tienda.plot.bar()\n",
    "total"
   ]
  },
  {
   "cell_type": "markdown",
   "metadata": {},
   "source": [
    "### "
   ]
  },
  {
   "cell_type": "markdown",
   "metadata": {},
   "source": [
    "Distribución de Pareto por Departamento"
   ]
  },
  {
   "cell_type": "code",
   "execution_count": null,
   "metadata": {},
   "outputs": [],
   "source": [
    "pareto_departamento=sales_data.iloc[:,[1,3]]\n",
    "pareto_departamento[\"Weekly_Sales\"][pareto_departamento[\"Weekly_Sales\"]<0]=0\n",
    "pareto_departamento=pareto_departamento.groupby([\"Dept\"]).sum().sort_values(by=\"Weekly_Sales\",ascending=False)\n",
    "pareto_departamento[\"%\"]=pareto_departamento/total_ventas\n",
    "pareto_departamento[\"acumulado\"]= pareto_departamento[\"%\"].cumsum()\n",
    "print(pareto_departamento)\n",
    "pareto_departamento.plot.bar()\n"
   ]
  },
  {
   "cell_type": "markdown",
   "metadata": {},
   "source": [
    "Explora la Distribución de Pareto de la venta por Departamento para cada Tipo de Tienda (es decir, genera un Pareto por cada tipo de tienda). ¿Existe alguna diferencia en el assortment que ofrece cada tipo de tienda, o un cliente puede encontrar todos los productos en todas las tiendas?"
   ]
  },
  {
   "cell_type": "code",
   "execution_count": null,
   "metadata": {},
   "outputs": [],
   "source": [
    "ventas_tienda1\n",
    "\n",
    "pareto_a=ventas_tienda1[ventas_tienda1[\"Type\"]==\"A\"]\n",
    "pareto_a= pareto_a.iloc[:,[1,3]]\n",
    "totala=pareto_a[\"Weekly_Sales\"].sum()\n",
    "pareto_a= pareto_a.groupby([\"Dept\"]).sum().sort_values(by=\"Weekly_Sales\",ascending=False)\n",
    "pareto_a[\"%\"]=pareto_a[\"Weekly_Sales\"]/totala\n",
    "pareto_a[\"acum\"]=pareto_a[\"%\"].cumsum()\n",
    "pareto_a[\"%\"].plot.barh()\n",
    "print(pareto_a)\n",
    "print(totala)"
   ]
  },
  {
   "cell_type": "code",
   "execution_count": null,
   "metadata": {},
   "outputs": [],
   "source": [
    "pareto_B=ventas_tienda1[ventas_tienda1[\"Type\"]==\"B\"]\n",
    "pareto_B= pareto_B.iloc[:,[1,3]]\n",
    "totalB=pareto_B[\"Weekly_Sales\"].sum()\n",
    "pareto_B= pareto_B.groupby([\"Dept\"]).sum().sort_values(by=\"Weekly_Sales\",ascending=False)\n",
    "pareto_B[\"%\"]=pareto_B[\"Weekly_Sales\"]/totalB\n",
    "pareto_B[\"acum\"]=pareto_B[\"%\"].cumsum()\n",
    "pareto_B[\"%\"].plot.barh()\n",
    "print(pareto_B)\n",
    "print(totalB)\n"
   ]
  },
  {
   "cell_type": "code",
   "execution_count": null,
   "metadata": {},
   "outputs": [],
   "source": [
    "pareto_C=ventas_tienda1[ventas_tienda1[\"Type\"]==\"C\"]\n",
    "pareto_C= pareto_C.iloc[:,[1,3]]\n",
    "totalC=pareto_C[\"Weekly_Sales\"].sum()\n",
    "pareto_C= pareto_C.groupby([\"Dept\"]).sum().sort_values(by=\"Weekly_Sales\",ascending=False)\n",
    "pareto_C[\"%\"]=pareto_C[\"Weekly_Sales\"]/totalC\n",
    "pareto_C[\"acum\"]=pareto_C[\"%\"].cumsum()\n",
    "pareto_C[\"%\"].plot.barh()\n",
    "print(pareto_C)\n",
    "print()\n"
   ]
  },
  {
   "cell_type": "code",
   "execution_count": null,
   "metadata": {},
   "outputs": [],
   "source": [
    "print(pareto_a)\n",
    "print(pareto_B)\n",
    "print(pareto_C)"
   ]
  },
  {
   "cell_type": "markdown",
   "metadata": {},
   "source": [
    "## Genera un histograma de las temperaturas de las ciudades en las que se encuentran las tiendas. Estudia, para cada tienda, la temperatura promedio, la temperatura máxima, y la temperatura mínima a la que se han encontrado con gráficas de barras. ¿Existen grupos de tiendas que tengan un comportamiento de clima diferente?"
   ]
  },
  {
   "cell_type": "code",
   "execution_count": null,
   "metadata": {},
   "outputs": [],
   "source": [
    "datos_clima=features_data.iloc[:,[0,1,2]]\n",
    "datos_clima[\"año\"]= pd.DatetimeIndex(datos_clima[\"Date\"]).year\n",
    "datos_clima[\"Centigrados\"]= (datos_clima[\"Temperature\"]-32)*(5/9)\n",
    "datos_clima[\"Centigrados\"].plot.hist()\n",
    "print(datos_clima)"
   ]
  },
  {
   "cell_type": "code",
   "execution_count": null,
   "metadata": {},
   "outputs": [],
   "source": [
    "clima_media=datos_clima.groupby([\"Store\"]).mean().sort_values(by=\"Centigrados\",ascending=False)\n",
    "clima_min=datos_clima.groupby([\"Store\"]).min().sort_values(by=\"Centigrados\",ascending=False)\n",
    "#clima_media[\"Centigrados\"].plot.bar()\n",
    "clima_min[\"Centigrados\"].plot.bar()\n",
    "print(clima_media)\n"
   ]
  },
  {
   "cell_type": "code",
   "execution_count": null,
   "metadata": {},
   "outputs": [],
   "source": [
    "sns.lineplot(x=\"Date\",y=\"Centigrados\",hue=\"Store\",data=datos_clima[(datos_clima[\"Store\"]==11)&(datos_clima[\"año\"]==2013)])"
   ]
  },
  {
   "cell_type": "markdown",
   "metadata": {},
   "source": [
    "##  Genera un histograma de los precios de la gasolina. ¿Entre qué valores parece oscilar?\n",
    "¿Cómo ha variado su valor a través del tiempo? Realiza un diagrama de dispersión del tiempo contra los precios de gasolina. ¿Existió un cambio importante en el valor promedio?"
   ]
  },
  {
   "cell_type": "code",
   "execution_count": null,
   "metadata": {},
   "outputs": [],
   "source": [
    "precio_gas=features_data.iloc[:,[0,1,3]]\n",
    "precio_gas[\"año\"]=pd.DatetimeIndex(precio_gas[\"Date\"]).year\n",
    "#precio_gas[\"Fuel_Price\"].plot.hist()\n",
    "sns.scatterplot(x=\"Date\",y=\"Fuel_Price\",hue=\"Store\",data=precio_gas)\n",
    "precio_prom=precio_gas[precio_gas[\"año\"]>=2012]\n",
    "precio_prom=precio_prom.groupby([\"Store\"]).mean()\n",
    "print(precio_prom)"
   ]
  },
  {
   "cell_type": "markdown",
   "metadata": {},
   "source": [
    "## Genera un histograma del Customer Purchase Index. ¿Qué existe de extraño en este histograma? Genera una gráfica de línea del CPI por tienda. ¿Se puede concluir algo con respecto a la forma del histograma?"
   ]
  },
  {
   "cell_type": "code",
   "execution_count": null,
   "metadata": {},
   "outputs": [],
   "source": [
    "datos_cpi=features_data.iloc[:,[0,1,9]]\n",
    "datos_cpi[\"año\"]=pd.DatetimeIndex(datos_cpi[\"Date\"]).year\n",
    "datos_cpi[\"CPI\"].plot.hist()\n",
    "plt.show()\n",
    "#sns.lineplot(x=\"año\",y=\"CPI\", data= datos_cpi[datos_cpi[\"Store\"]==7],hue=\"Store\")\n",
    "sns.lineplot(x=\"año\",y=\"CPI\", data= datos_cpi,hue=\"Store\")\n",
    "print(datos_cpi)\n"
   ]
  },
  {
   "cell_type": "code",
   "execution_count": null,
   "metadata": {},
   "outputs": [],
   "source": [
    "cpi_grafica= datos_cpi[datos_cpi[\"Store\"]== 1].dropna()\n",
    "#cpi_grafica.plot.hist()\n",
    "print(cpi_grafica)"
   ]
  },
  {
   "cell_type": "markdown",
   "metadata": {},
   "source": [
    "## Genera nuevas columnas que representen, con un True y False, si el Holiday representa algún evento importante, de acuerdo a la siguiente figura:"
   ]
  },
  {
   "cell_type": "code",
   "execution_count": null,
   "metadata": {},
   "outputs": [],
   "source": [
    "fechas_importancia[\"superbowl\"]=superbowl\n",
    "fechas_importancia[\"laborday\"]=laborday\n",
    "fechas_importancia[\"thanksgiving\"]=thanksgiving\n",
    "fechas_importancia[\"christmas\"]=christmas\n",
    "fechas_importancia"
   ]
  },
  {
   "cell_type": "code",
   "execution_count": null,
   "metadata": {},
   "outputs": [],
   "source": [
    "features_holidays=features_data.merge(fechas_importancia, on= \"Date\")\n",
    "print(features_holidays)"
   ]
  },
  {
   "cell_type": "code",
   "execution_count": null,
   "metadata": {},
   "outputs": [],
   "source": [
    "markdown=features_holidays.iloc[:,[4]].dropna()\n",
    "markdown.plot.hist()\n",
    "plt.show()\n",
    "\n",
    "print(features_holidays[\"superbowl\"])\n",
    "print(superbowl)\n",
    "#print(markdown[\"MarkDown5\"].describe())"
   ]
  },
  {
   "cell_type": "markdown",
   "metadata": {},
   "source": [
    "## Fase2"
   ]
  },
  {
   "cell_type": "markdown",
   "metadata": {},
   "source": [
    "Considera únicamente la venta anual de las tiendas en el 2011. ¿Existe una diferencia significativa en el promedio de venta anual entre los Tipos de Tienda? Utiliza una prueba de hipótesis con un nivel de significancia del 0.05."
   ]
  },
  {
   "cell_type": "code",
   "execution_count": null,
   "metadata": {},
   "outputs": [],
   "source": [
    "#features_data= pd.read_csv(\"Features data set.csv\",parse_dates=[\"Date\"])\n",
    "#sales_data= pd.read_csv(\"sales data-set.csv\",parse_dates=[\"Date\"])\n",
    "#stores_data=pd.read_csv(\"stores data-set.csv\")\n",
    "print(sales_data)"
   ]
  },
  {
   "cell_type": "code",
   "execution_count": null,
   "metadata": {},
   "outputs": [],
   "source": [
    "venta_2011= sales_data.merge(stores_data, on=\"Store\")\n",
    "venta_2011[\"año\"]=pd.DatetimeIndex(venta_2011[\"Date\"]).year\n",
    "venta_2011=venta_2011[venta_2011[\"año\"]==2011]\n",
    "venta_2011=venta_2011.iloc[:,[0,3,5]]\n",
    "venta_2011= venta_2011.groupby([\"Store\",\"Type\"]).sum().reset_index()\n",
    "valor=venta_2011.groupby(\"Type\")[\"Weekly_Sales\"].agg([\"mean\",\"std\",\"count\"])\n",
    "print(valor)\n",
    "proma=7.173672e+07\n",
    "promb=4.259524e+07\n",
    "promc=2.431218e+07\n",
    "desva=2.659460e+07\n",
    "desvb=2.017713e+07 \n",
    "desvc=6.197005e+06 \n",
    "counta=22\n",
    "countb=17\n",
    "countc=6\n",
    "\n",
    "z1=(proma-promb)/((desva**2/counta)+(desvb**2/countb))**.5\n",
    "z2=(proma-promc)/((desva**2/counta)+(desvc**2/countc))**.5\n",
    "z3=(promc-promb)/((desvc**2/countc)+(desvb**2/countb))**.5\n",
    "\n",
    "valorp1= vale.norm.sf(abs(z1))*2\n",
    "valorp2= vale.norm.sf(abs(z2))*2\n",
    "valorp3= vale.norm.sf(abs(z3))*2\n",
    "print(valorp1)\n",
    "print(valorp2)\n",
    "print(valorp3)\n",
    "                                                     \n"
   ]
  },
  {
   "cell_type": "markdown",
   "metadata": {},
   "source": [
    "Determina, para cada departamento, el número de tiendas en donde este fue considerado el mejor en ventas de entre todos los departamentos en todo el 2011. ¿Existe mucha variabilidad en este dato?"
   ]
  },
  {
   "cell_type": "code",
   "execution_count": null,
   "metadata": {},
   "outputs": [],
   "source": [
    "departamento_2011= sales_data.merge(stores_data, on=\"Store\")\n",
    "departamento_2011[\"año\"]=pd.DatetimeIndex(departamento_2011[\"Date\"]).year\n",
    "departamento_2011=departamento_2011[departamento_2011[\"año\"]==2011]\n",
    "departamento_2011=departamento_2011.iloc[:,[0,1,3]]\n",
    "departamento_2011=departamento_2011.groupby([\"Store\",\"Dept\"]).sum().reset_index()\n",
    "mejores_ventas=pd.DataFrame()\n",
    "tiendas= departamento_2011[\"Store\"].unique()\n",
    "\n",
    "for stores in tiendas :\n",
    "        dfcache= departamento_2011[departamento_2011[\"Store\"]== stores]\n",
    "        dfcache= dfcache.sort_values(by=\"Weekly_Sales\", ascending=False).head(1)\n",
    "        mejores_ventas=mejores_ventas.append(dfcache)\n",
    "        #print(dfcache)\n",
    "agrupar=mejores_ventas.groupby([\"Dept\"])[\"Store\"].count()\n",
    "print(agrupar)"
   ]
  },
  {
   "cell_type": "markdown",
   "metadata": {},
   "source": [
    "## ¿Existe una relación entre las ventas totales de las tiendas y el tamaño de la tienda? Genera un diagrama de dispersión acerca de este, y calcula el coeficiente de correlación."
   ]
  },
  {
   "cell_type": "code",
   "execution_count": null,
   "metadata": {},
   "outputs": [],
   "source": [
    "venta_tamaño=sales_data[(sales_data[\"Date\"]<=\"2012-12-31\")&(sales_data[\"Date\"]>=\"2012-01-01\")]\n",
    "ventas_2012=venta_tamaño.groupby([\"Store\"])[\"Weekly_Sales\"].sum()\n",
    "tamaño_tiendas= stores_data.merge(ventas_2012,on=\"Store\")\n",
    "\n",
    "\n",
    "\n",
    "print(tamaño_tiendas)"
   ]
  },
  {
   "cell_type": "code",
   "execution_count": null,
   "metadata": {},
   "outputs": [],
   "source": [
    "sns.scatterplot(x=\"Size\",y=\"Weekly_Sales\",hue=\"Type\",data=tamaño_tiendas)\n",
    "vale.pearsonr(tamaño_tiendas[\"Size\"],tamaño_tiendas[\"Weekly_Sales\"])"
   ]
  },
  {
   "cell_type": "markdown",
   "metadata": {},
   "source": [
    " Considera únicamente los departamentos con venta estable durante todas las semanas de estudio. Con respecto a cada evento importante, calcula el incremento en % de ventas durante esas semanas con respecto al promedio global (es decir, para este departamento, qué tanto % incrementó de ventas en Super Bowl, qué tanto % en Labor Day, qué tanto % en Thanksgiving, y qué tanto % en Christmas). ¿Cuáles son los departamentos con mayor impacto por este tipo de estacionalidad?"
   ]
  },
  {
   "cell_type": "code",
   "execution_count": null,
   "metadata": {},
   "outputs": [],
   "source": [
    "departamentos_estables=sales_data.iloc[:,[1,2,3]]\n",
    "departamentos_estables=departamentos_estables.groupby([\"Dept\",\"Date\"]).sum().reset_index()\n",
    "departamentos_estables=departamentos_estables.pivot(index=\"Date\",columns=\"Dept\",values=\"Weekly_Sales\")\n",
    "\n",
    "\n",
    "logicos_estables=departamentos_estables.isna().sum()==0\n",
    "departamentos_final=departamentos_estables.loc[:,logicos_estables].columns\n",
    "\n",
    "\n",
    "print(departamentos_final)"
   ]
  },
  {
   "cell_type": "code",
   "execution_count": null,
   "metadata": {},
   "outputs": [],
   "source": [
    "holidays_data=features_holidays.merge(sales_data.iloc[:,[0,1,2,3]], on= [\"Store\",\"Date\"])\n",
    "holidays_data=holidays_data[holidays_data[\"Dept\"].isin(departamentos_final)]\n",
    "holidays_data=holidays_data.groupby([\"Dept\",\"Date\",\"superbowl\",\"laborday\",\"thanksgiving\",\"christmas\"])[\"Weekly_Sales\"].sum().reset_index()\n",
    "\n",
    "contar_1=holidays_data[holidays_data[\"superbowl\"]]\n",
    "print(contar_1)\n"
   ]
  },
  {
   "cell_type": "code",
   "execution_count": null,
   "metadata": {},
   "outputs": [],
   "source": [
    "promedios_dept= holidays_data.groupby([\"Dept\"])[\"Weekly_Sales\"].mean().reset_index(name=\"Promedio\")\n",
    "venta_super=holidays_data[holidays_data[\"superbowl\"]]\n",
    "#venta_super=venta_super[venta_super[\"Dept\"]==1]\n",
    "venta_labor=holidays_data[holidays_data[\"laborday\"]]\n",
    "venta_thanks=holidays_data[holidays_data[\"thanksgiving\"]]\n",
    "venta_navidad=holidays_data[holidays_data[\"christmas\"]]\n",
    "\n",
    "venta_super=venta_super.groupby([\"Dept\"])[\"Weekly_Sales\"].mean().reset_index(name=\"superbowl\")\n",
    "venta_labor=venta_labor.groupby([\"Dept\"])[\"Weekly_Sales\"].mean().reset_index(name=\"laborday\")\n",
    "venta_thanks=venta_thanks.groupby([\"Dept\"])[\"Weekly_Sales\"].mean().reset_index(name=\"thanksgiving\")\n",
    "venta_navidad=venta_navidad.groupby([\"Dept\"])[\"Weekly_Sales\"].mean().reset_index(name=\"navidad\")\n",
    "\n",
    "df_prom=promedios_dept.merge(venta_super,on=\"Dept\")\n",
    "df_prom=df_prom.merge(venta_labor,on=\"Dept\")\n",
    "df_prom=df_prom.merge(venta_thanks,on=\"Dept\")\n",
    "df_prom=df_prom.merge(venta_navidad,on=\"Dept\")\n",
    "\n",
    "df_prom[\"inc_superbowl\"]=(df_prom[\"superbowl\"]/df_prom[\"Promedio\"])-1\n",
    "df_prom[\"inc_laborday\"]=(df_prom[\"laborday\"]/df_prom[\"Promedio\"])-1\n",
    "df_prom[\"inc_thanksgiving\"]=(df_prom[\"thanksgiving\"]/df_prom[\"Promedio\"])-1\n",
    "df_prom[\"inc_navidad\"]=(df_prom[\"navidad\"]/df_prom[\"Promedio\"])-1\n",
    "df_prom=df_prom.sort_values(by=\"inc_thanksgiving\",ascending=False)\n",
    "print(df_prom)"
   ]
  },
  {
   "cell_type": "markdown",
   "metadata": {},
   "source": [
    "Calcula el coeficiente de correlación de ventas por departamento con respecto a la temperatura, englobando los datos de todas las tiendas. ¿Existen algunos departamentos donde existe más relación de temperatura que otras? ¿Esto se podría ver reflejado en menor ventas para tiendas más frías/más calurosas?\n"
   ]
  },
  {
   "cell_type": "code",
   "execution_count": null,
   "metadata": {},
   "outputs": [],
   "source": [
    "#print(features_data)\n",
    "#print(sales_data)\n",
    "\n",
    "all_sales=sales_data.merge(features_data,on=[\"Store\",\"Date\"],how= \"inner\")\n",
    "ventas_temp=all_sales.iloc[:,[1,3,5]]\n",
    "#ventas_temp=ventas_temp[ventas_temp[\"Dept\"]==1]\n",
    "#ventas_temp.plot.scatter(x=\"Temperature\",y=\"Weekly_Sales\")\n",
    "#plt.show\n",
    "#vale.pearsonr(ventas_temp[\"Temperature\"],ventas_temp[\"Weekly_Sales\"])\n",
    "print(ventas_temp)"
   ]
  },
  {
   "cell_type": "code",
   "execution_count": null,
   "metadata": {},
   "outputs": [],
   "source": [
    "Coef_corr=[]\n",
    "departamentos_final\n",
    "\n",
    "\n",
    "#print(ventas_temp)\n",
    "\n",
    "for iteracion in departamentos_final.tolist():\n",
    "    #print(iteracion)\n",
    "    cor_cache=ventas_temp[ventas_temp[\"Dept\"]==iteracion]\n",
    "    #print(cor_cache)\n",
    "    pearson_value=vale.pearsonr(cor_cache[\"Temperature\"],cor_cache[\"Weekly_Sales\"])[0]\n",
    "    #print(pearson_value)\n",
    "    Coef_corr.append(pearson_value)\n",
    "print(Coef_corr)\n",
    "    \n",
    "        "
   ]
  },
  {
   "cell_type": "code",
   "execution_count": null,
   "metadata": {},
   "outputs": [],
   "source": [
    "diccionario={\"Dept\":departamentos_final,\"Correlacion\":Coef_corr}\n",
    "df_correlacion= pd.DataFrame(data=diccionario)\n",
    "df_correlacion=df_correlacion.sort_values(\"Correlacion\", ascending = False)\n",
    "print(df_correlacion)"
   ]
  },
  {
   "cell_type": "markdown",
   "metadata": {},
   "source": [
    "Corrobora la correlación de las ventas totales por tienda con las variables: CPI, Price_Fuel, y Markdowns. ¿Estas variables tienen poder predictivo para predicir el comportamiento de las ventas?"
   ]
  },
  {
   "cell_type": "code",
   "execution_count": null,
   "metadata": {},
   "outputs": [],
   "source": [
    "total_tienda= all_sales.iloc[:,[0,2,3,6,12]]\n",
    "total_ventas=total_tienda.groupby([\"Store\",\"Date\"]).sum()[\"Weekly_Sales\"].reset_index()\n",
    "\n",
    "total_ventas=total_ventas.merge(total_tienda.iloc[:,[0,1,4,3]],on=[\"Store\",\"Date\"]).drop_duplicates()\n",
    "print(vale.pearsonr(total_ventas[\"Weekly_Sales\"],total_ventas[\"CPI\"])[0])\n",
    "print(vale.pearsonr(total_ventas[\"Weekly_Sales\"],total_ventas[\"Fuel_Price\"])[0])\n",
    "print(total_ventas)\n",
    "\n",
    "total_ventas.corr()\n",
    "\n"
   ]
  },
  {
   "cell_type": "markdown",
   "metadata": {},
   "source": [
    "## fase 3"
   ]
  },
  {
   "cell_type": "markdown",
   "metadata": {},
   "source": [
    "Dado el análisis hasta ahorita, determina cuáles son las variables que pueden ayudar a predecir la venta."
   ]
  },
  {
   "cell_type": "markdown",
   "metadata": {},
   "source": []
  },
  {
   "cell_type": "markdown",
   "metadata": {},
   "source": [
    "Prepara la información de manera que, en una sola tabla, se tenga la venta histórica por tienda junto con las variables que se determinaron como importantes."
   ]
  },
  {
   "cell_type": "code",
   "execution_count": null,
   "metadata": {},
   "outputs": [],
   "source": [
    "all_info=sales_data.merge(features_data, on=[\"Store\",\"Date\"])\n",
    "all_info=all_info.merge(stores_data,on=\"Store\")\n",
    "all_info=all_info.iloc[:,[0,1,2,3,5,15,16]]\n",
    "all_info=all_info.merge(fechas_importancia,on=\"Date\")\n",
    "\n",
    "#concatenar=pd.concat([tipo,depa],axis=1)\n",
    "#print(datos_x)\n",
    "#print(depa)"
   ]
  },
  {
   "cell_type": "markdown",
   "metadata": {},
   "source": [
    "Divide el conjunto de datos en dos: uno de entrenamiento (con los años 2010 y 2011), y uno de prueba (con el año 2012).\n"
   ]
  },
  {
   "cell_type": "code",
   "execution_count": null,
   "metadata": {},
   "outputs": [],
   "source": [
    "all_1011=all_info[(all_info[\"Date\"]>=\"2010-01-01\") & (all_info[\"Date\"]<\"2012-01-01\")]\n",
    "tipo=pd.get_dummies(all_1011[\"Type\"])\n",
    "depa=pd.get_dummies(all_1011[\"Dept\"])\n",
    "sp=all_1011[\"superbowl\"]+0\n",
    "ld=all_1011[\"laborday\"]+0\n",
    "tg=all_1011[\"thanksgiving\"]+0\n",
    "ch=all_1011[\"christmas\"]+0\n",
    "#print(all_info)\n",
    "\n",
    "datos_x=pd.concat([all_1011.iloc[:,[4,6]],tipo,depa,sp,ld,tg,ch],axis=1)\n",
    "#all_2012=all_info[(all_info[\"Date\"]>=\"2012-01-01\")] \n",
    "print(datos_x)"
   ]
  },
  {
   "cell_type": "markdown",
   "metadata": {},
   "source": [
    "Entrena el modelo de regresión lineal con los datos de entrenamiento. Interpreta los coeficientes, y obtén las métricas de error promedio y el coeficiente de determinación."
   ]
  },
  {
   "cell_type": "code",
   "execution_count": null,
   "metadata": {},
   "outputs": [],
   "source": [
    "regresor=linear_model.LinearRegression()\n",
    "x=datos_x.values.reshape(-1,90)\n",
    "y=all_1011[\"Weekly_Sales\"].values.reshape(-1,1)\n",
    "\n",
    "\n",
    "regresor.fit(x,y)\n",
    "prediccion=regresor.predict(x).flatten()\n",
    "#print(regresor.coef_)\n",
    "print(prediccion)"
   ]
  },
  {
   "cell_type": "code",
   "execution_count": null,
   "metadata": {},
   "outputs": [],
   "source": [
    "all_1011[\"prediccion\"]= prediccion\n",
    "print(all_1011.iloc[:,[0,1,2,3,11]])\n",
    "\n",
    "all_1011.plot.scatter(\"Weekly_Sales\",\"prediccion\")\n",
    "\n",
    "r2=vale.pearsonr(all_1011[\"Weekly_Sales\"],all_1011[\"prediccion\"])[0]\n",
    "\n",
    "r2=r2*r2\n",
    "print(r2)"
   ]
  },
  {
   "cell_type": "code",
   "execution_count": null,
   "metadata": {},
   "outputs": [],
   "source": [
    "error= all_1011[\"Weekly_Sales\"]- all_1011[\"prediccion\"]\n",
    "prom_error= error.abs().mean()\n",
    "errorp=error/all_1011[\"Weekly_Sales\"]\n",
    "errorp_mean= np.nanmean(errorp.abs().replace(np.inf,np.nan))\n",
    "print(errorp_mean)"
   ]
  },
  {
   "cell_type": "markdown",
   "metadata": {},
   "source": [
    "## Fase 4 \n"
   ]
  },
  {
   "cell_type": "markdown",
   "metadata": {},
   "source": [
    "prediccion a nivel Mensual"
   ]
  },
  {
   "cell_type": "code",
   "execution_count": null,
   "metadata": {},
   "outputs": [],
   "source": [
    "#print(all_info)\n",
    "all_info[\"año\"]=pd.DatetimeIndex(all_info[\"Date\"]).year\n",
    "all_info[\"mes\"]=pd.DatetimeIndex(all_info[\"Date\"]).month\n",
    "all_info_ventas=all_info.groupby([\"Store\",\"Dept\",\"año\",\"mes\"]).sum().reset_index()\n",
    "all_info_temp=all_info.groupby([\"Store\",\"Dept\",\"año\",\"mes\"]).mean().reset_index()\n",
    "\n",
    "all_info_ventas=all_info_ventas.iloc[:,[0,1,2,3,4,7,8,9,10]]\n",
    "all_info_temp=all_info_temp.iloc[:,[5,6]]\n",
    "\n",
    "lista_req=pd.concat([all_info_ventas,all_info_temp],axis=1)\n",
    "tienda1_depa5=lista_req[lista_req[\"Store\"]==1]\n",
    "tienda1_depa5=tienda1_depa5[tienda1_depa5[\"Dept\"]==5]\n",
    "tienda1_depa5[\"tiempo\"]= tienda1_depa5[\"año\"]+(tienda1_depa5[\"mes\"]-1)/12\n",
    "tienda1_depa5=tienda1_depa5.sort_values([\"Weekly_Sales\"],ascending=True)\n",
    "#año_bajo= lista_req.sort_values([\"Weekly_Sales\"],ascending=True)\n",
    "#tienda1_depa5.plot.line(x=\"tiempo\",y=\"Weekly_Sales\")\n",
    "\n",
    "print(tienda1_depa5)"
   ]
  },
  {
   "cell_type": "code",
   "execution_count": null,
   "metadata": {},
   "outputs": [],
   "source": [
    "lista_req_limpio=lista_req[~(((lista_req[\"año\"]==2010) & (lista_req[\"mes\"]== 1)) | ((lista_req[\"año\"]==2012) & (lista_req[\"mes\"]>10)))]\n",
    "lista_req_limpio[\"Dept\"]=lista_req_limpio[\"Dept\"].astype(str)\n",
    "\n",
    "\n",
    "lista_req_limpio=pd.get_dummies(lista_req_limpio)\n",
    "\n",
    "lista_req_limpio[\"superbowl\"]=lista_req_limpio[\"superbowl\"]+0\n",
    "lista_req_limpio[\"laborday\"]=lista_req_limpio[\"laborday\"]+0\n",
    "lista_req_limpio[\"thanksgiving\"]=lista_req_limpio[\"thanksgiving\"]+0\n",
    "lista_req_limpio[\"christmas\"]=lista_req_limpio[\"christmas\"]+0\n",
    "lista_req_limpio=lista_req_limpio[lista_req_limpio[\"Dept_99\"]==0]\n",
    "#print(lista_req_limpio)\n",
    "\n",
    "datos_x=lista_req_limpio.drop([\"Weekly_Sales\"],axis=1)\n",
    "datos_y=lista_req_limpio.iloc[:,[3]]\n",
    "\n",
    "print(datos_y)"
   ]
  },
  {
   "cell_type": "code",
   "execution_count": null,
   "metadata": {},
   "outputs": [],
   "source": [
    "regresor_1=linear_model.LinearRegression()\n",
    "regresor_1.fit(datos_x,datos_y)\n",
    "prediccion_1=regresor_1.predict(datos_x).flatten()\n",
    "#print(regresor.coef_)\n",
    "#print(prediccion)\n",
    "\n",
    "\n",
    "lista_pred=lista_req_limpio.copy()\n",
    "lista_pred[\"prediccion\"]=prediccion_1\n",
    "\n",
    "#especifico=lista_pred[lista_pred[\"Store\"]==2]\n",
    "#especifico=especifico[especifico[\"Dept_2\"]==1]\n",
    "#especifico[\"tiempo\"]= especifico[\"año\"]+(especifico[\"mes\"]-1)/12\n",
    "#especifico.plot.line(x=\"tiempo\",y=\"Weekly_Sales\")\n",
    "#especifico.plot.line(x=\"tiempo\",y=\"prediccion\")\n",
    "#plt.plot(especifico[\"tiempo\"].values,especifico[\"Weekly_Sales\"].values)\n",
    "#plt.plot(especifico[\"tiempo\"].values,especifico[\"prediccion\"].values)\n",
    "#print(especifico)"
   ]
  },
  {
   "cell_type": "code",
   "execution_count": null,
   "metadata": {},
   "outputs": [],
   "source": [
    "rcuada=vale.pearsonr(all_1011[\"Weekly_Sales\"],all_1011[\"prediccion\"])[0]"
   ]
  },
  {
   "cell_type": "markdown",
   "metadata": {},
   "source": [
    "## Fase 5\n"
   ]
  },
  {
   "cell_type": "markdown",
   "metadata": {},
   "source": []
  },
  {
   "cell_type": "code",
   "execution_count": null,
   "metadata": {},
   "outputs": [],
   "source": [
    "print(lista_pred)"
   ]
  },
  {
   "cell_type": "code",
   "execution_count": null,
   "metadata": {},
   "outputs": [],
   "source": [
    "filtrado_sele=lista_pred[(lista_pred[\"Store\"]==2) & (lista_pred[\"Dept_80\"]==1)]\n",
    "filtrado_sele[\"tiempo\"]= filtrado_sele[\"año\"]+(filtrado_sele[\"mes\"]-1)/12\n",
    "filtrado_sele=filtrado_sele.drop([\"prediccion\"],axis=1)\n",
    "plt.plot(filtrado_sele[\"tiempo\"].values,filtrado_sele[\"Weekly_Sales\"].values)\n",
    "print(filtrado_sele)\n",
    "\n"
   ]
  },
  {
   "cell_type": "code",
   "execution_count": null,
   "metadata": {},
   "outputs": [],
   "source": [
    "filtrado_t2d2=filtrado_sele.iloc[:,[3,4,5,6,7,8,91]]\n",
    "datos_x=filtrado_t2d2.drop([\"Weekly_Sales\"],axis=1)\n",
    "datos_y=filtrado_t2d2.iloc[:,[0]]\n",
    "\n",
    "\n",
    "regresor_2=linear_model.LinearRegression()\n",
    "regresor_2.fit(datos_x,datos_y)\n",
    "prediccion_2=regresor_2.predict(datos_x).flatten()\n",
    "filtrado_t2d2[\"prediccion\"]=prediccion_2\n",
    "print(filtrado_t2d2)\n",
    "plt.plot(filtrado_t2d2[\"tiempo\"].values,filtrado_t2d2[\"Weekly_Sales\"].values)\n",
    "plt.plot(filtrado_t2d2[\"tiempo\"].values,filtrado_t2d2[\"prediccion\"].values)\n"
   ]
  },
  {
   "cell_type": "code",
   "execution_count": null,
   "metadata": {},
   "outputs": [],
   "source": [
    "lista_combinaciones=all_info[[\"Store\",\"Dept\"]].drop_duplicates()\n",
    "#print(lista_combinaciones)\n",
    "print(lista_pred)\n",
    "df_total=pd.DataFrame()\n",
    "\n",
    "for iteracion, combinacion in lista_combinaciones.iterrows():\n",
    "    tienda= combinacion[\"Store\"]\n",
    "    depa=combinacion[\"Dept\"]\n",
    "    df_filtrado=lista_pred\n",
    "    df_filtrado=df_filtrado[(df_filtrado[\"Store\"]==tienda)&(df_filtrado[\"Dept_\"+str(depa)]==1)]\n",
    "    df_filtrado=df_filtrado.iloc[:,[3,4,5,6,7,8]]\n",
    "    if df_filtrado.shape[0]>10:\n",
    "    \n",
    "        datos_x=df_filtrado.drop([\"Weekly_Sales\"],axis=1)\n",
    "        datos_y=df_filtrado.iloc[:,[0]]\n",
    "        regresor_f=linear_model.LinearRegression()\n",
    "        regresor_f.fit(datos_x,datos_y)\n",
    "        prediccion_f=regresor_f.predict(datos_x).flatten()\n",
    "        df_filtrado[\"prediccion\"]=prediccion_f\n",
    "        df_filtrado[\"Dept\"]=depa\n",
    "        df_total=df_total.append(df_filtrado)\n"
   ]
  },
  {
   "cell_type": "code",
   "execution_count": null,
   "metadata": {},
   "outputs": [],
   "source": [
    "#print(df_total.prediccion)\n",
    "lista_pred_mes= lista_pred.copy()\n",
    "lista_pred_mes[\"mes2\"]=lista_pred_mes[\"mes\"].astype(str)\n",
    "lista_pred_mes= pd.get_dummies(lista_pred_mes)\n",
    "#print(lista_pred_mes)\n",
    "\n",
    "lista_2010=lista_pred_mes[(lista_pred_mes[\"año\"]<2012)]\n",
    "lista_2010[\"tiempo\"]=lista_2010[\"año\"]+(lista_2010[\"mes\"]-1)/12\n",
    "lista_2012=lista_pred_mes[lista_pred_mes[\"año\"]==2012]\n",
    "lista_2012[\"tiempo\"]=lista_2012[\"año\"]+(lista_2012[\"mes\"]-1)/12\n",
    "df_total2=pd.DataFrame()\n",
    "df_prediccion=pd.DataFrame()\n",
    "\n",
    "\n",
    "\n",
    "for iteracion, combinacion in lista_combinaciones.iterrows():\n",
    "    tienda= combinacion[\"Store\"]\n",
    "    depa=combinacion[\"Dept\"]\n",
    "    df_filtrado=lista_2010\n",
    "    df_filtrado2=lista_2012\n",
    "    df_filtrado2=df_filtrado2[(df_filtrado2[\"Store\"]==tienda)&(df_filtrado2[\"Dept_\"+str(depa)]==1)]\n",
    "    df_filtrado2=df_filtrado2.iloc[:,[0,3,8,92,93,94,95,96,97,98,99,100,101,102,103,104]]\n",
    "    df_filtrado=df_filtrado[(df_filtrado[\"Store\"]==tienda)&(df_filtrado[\"Dept_\"+str(depa)]==1)]\n",
    "    df_filtrado=df_filtrado.iloc[:,[0,3,8,92,93,94,95,96,97,98,99,100,101,102,103,104]]\n",
    "\n",
    "    if df_filtrado.shape[0]>10 and df_filtrado2.shape[0]==10:\n",
    "    \n",
    "        datos_x=df_filtrado.drop([\"Weekly_Sales\"],axis=1)\n",
    "        datos_y=df_filtrado.iloc[:,[1]]\n",
    "        datos_x2=df_filtrado2.drop([\"Weekly_Sales\"],axis=1)\n",
    "        regresor_f=linear_model.LinearRegression()\n",
    "        regresor_f.fit(datos_x,datos_y)\n",
    "        prediccion_f=regresor_f.predict(datos_x).flatten()\n",
    "        df_filtrado[\"prediccion\"]=prediccion_f\n",
    "        df_filtrado[\"Dept\"]=depa\n",
    "        df_total2=df_total2.append(df_filtrado)\n",
    "        prediccion_2012=regresor_f.predict(datos_x2).flatten()\n",
    "        df_filtrado2[\"prediccion\"]=prediccion_2012\n",
    "        df_filtrado2[\"Dept\"]=depa\n",
    "        df_prediccion=df_prediccion.append(df_filtrado2)\n",
    "\n",
    "        \n",
    "        #print(lista_2012)\n",
    "print(df_filtrado.columns)\n",
    "        "
   ]
  },
  {
   "cell_type": "code",
   "execution_count": null,
   "metadata": {},
   "outputs": [],
   "source": [
    "df_total2[\"error\"]=np.abs(df_total2[\"Weekly_Sales\"]-df_total2[\"prediccion\"])\n",
    "df_prediccion[\"error\"]=np.abs(df_prediccion[\"Weekly_Sales\"]-df_prediccion[\"prediccion\"])\n",
    "df_total2[\"error%\"]=np.abs(df_total2[\"error\"]/df_total2[\"Weekly_Sales\"])\n",
    "df_prediccion[\"error%\"]=np.abs(df_prediccion[\"error\"]/df_prediccion[\"Weekly_Sales\"])\n",
    "\n",
    "error10= df_total2[df_total2[\"Weekly_Sales\"]>0]\n",
    "error12= df_prediccion[df_prediccion[\"Weekly_Sales\"]>0]\n",
    "error2010= error10[\"error%\"].mean()\n",
    "error2012= error12[\"error%\"].mean()\n",
    "\n",
    "#print(error2010)\n",
    "#print(lista_2010)\n",
    "\n",
    "\n",
    "media_td=df_total2.groupby([\"Store\",\"Dept\"])[[\"Weekly_Sales\",\"prediccion\",\"error%\"]].mean().sort_values(\"error%\",ascending=False)\n",
    "media_td2=df_prediccion.groupby([\"Store\",\"Dept\"])[[\"Weekly_Sales\",\"prediccion\",\"error%\"]].mean().sort_values(\"error%\",ascending=True)\n",
    "#print(error2010)\n",
    "#print(error2012)\n",
    "\n",
    "#print(datos_y)\n",
    "print(media_td)\n",
    "print(media_td2)"
   ]
  },
  {
   "cell_type": "code",
   "execution_count": null,
   "metadata": {},
   "outputs": [],
   "source": [
    "graficat11d19=df_total2[(df_total2[\"Store\"]==13)&(df_total2[\"Dept\"]==45)]\n",
    "grafica2012=df_prediccion[(df_prediccion[\"Store\"]==13)&(df_prediccion[\"Dept\"]==45)]\n",
    "#print(grafica2012)\n",
    "#print(graficat11d19)\n",
    "#sns.lineplot(x=\"tiempo\",y=\"prediccion\", data= graficat11d19)\n",
    "sns.lineplot(x=\"tiempo\",y=\"prediccion\", data= grafica2012)\n",
    "#sns.lineplot(x=\"tiempo\",y=\"Weekly_Sales\", data= graficat11d19)\n",
    "sns.lineplot(x=\"tiempo\",y=\"Weekly_Sales\", data= grafica2012)\n"
   ]
  },
  {
   "cell_type": "code",
   "execution_count": null,
   "metadata": {},
   "outputs": [],
   "source": [
    "\n"
   ]
  },
  {
   "cell_type": "code",
   "execution_count": null,
   "metadata": {},
   "outputs": [],
   "source": [
    "print(lista_pred_mes.columns)"
   ]
  },
  {
   "cell_type": "code",
   "execution_count": null,
   "metadata": {},
   "outputs": [],
   "source": [
    "#print(df_prediccion)(\n",
    "#lol= df_prediccion.sort_values(by=\"prediccion\",ascending=False).head(5)\n",
    "#print(lol)\n",
    "\n",
    "df_prediccion.plot.scatter(\"prediccion\",\"Weekly_Sales\")"
   ]
  },
  {
   "cell_type": "code",
   "execution_count": null,
   "metadata": {},
   "outputs": [],
   "source": [
    "print(datos_x.columns)\n",
    "print(datos_x2.columns)"
   ]
  },
  {
   "cell_type": "code",
   "execution_count": null,
   "metadata": {},
   "outputs": [],
   "source": []
  },
  {
   "cell_type": "code",
   "execution_count": null,
   "metadata": {},
   "outputs": [],
   "source": []
  },
  {
   "cell_type": "code",
   "execution_count": null,
   "metadata": {},
   "outputs": [],
   "source": []
  },
  {
   "cell_type": "code",
   "execution_count": null,
   "metadata": {},
   "outputs": [],
   "source": []
  },
  {
   "cell_type": "code",
   "execution_count": null,
   "metadata": {},
   "outputs": [],
   "source": []
  },
  {
   "cell_type": "code",
   "execution_count": null,
   "metadata": {},
   "outputs": [],
   "source": []
  },
  {
   "cell_type": "code",
   "execution_count": null,
   "metadata": {},
   "outputs": [],
   "source": []
  },
  {
   "cell_type": "code",
   "execution_count": null,
   "metadata": {},
   "outputs": [],
   "source": []
  },
  {
   "cell_type": "code",
   "execution_count": null,
   "metadata": {},
   "outputs": [],
   "source": []
  },
  {
   "cell_type": "code",
   "execution_count": null,
   "metadata": {},
   "outputs": [],
   "source": []
  },
  {
   "cell_type": "code",
   "execution_count": null,
   "metadata": {},
   "outputs": [],
   "source": []
  },
  {
   "cell_type": "code",
   "execution_count": null,
   "metadata": {},
   "outputs": [],
   "source": []
  },
  {
   "cell_type": "code",
   "execution_count": null,
   "metadata": {},
   "outputs": [],
   "source": []
  },
  {
   "cell_type": "code",
   "execution_count": null,
   "metadata": {},
   "outputs": [],
   "source": []
  },
  {
   "cell_type": "code",
   "execution_count": null,
   "metadata": {},
   "outputs": [],
   "source": []
  },
  {
   "cell_type": "code",
   "execution_count": null,
   "metadata": {},
   "outputs": [],
   "source": []
  }
 ],
 "metadata": {
  "kernelspec": {
   "display_name": "Python 3",
   "language": "python",
   "name": "python3"
  },
  "language_info": {
   "codemirror_mode": {
    "name": "ipython",
    "version": 3
   },
   "file_extension": ".py",
   "mimetype": "text/x-python",
   "name": "python",
   "nbconvert_exporter": "python",
   "pygments_lexer": "ipython3",
   "version": "3.7.6"
  }
 },
 "nbformat": 4,
 "nbformat_minor": 4
}
